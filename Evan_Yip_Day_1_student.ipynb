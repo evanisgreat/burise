{
  "cells": [
    {
      "cell_type": "markdown",
      "id": "09bf334d",
      "metadata": {
        "id": "09bf334d"
      },
      "source": [
        "# Introduction to Python, Jupyter Notebooks, and GitHub\n",
        "This notebook introduces Python basics and how to work in Jupyter Notebooks.\n",
        "\n",
        "## Learning goals\n",
        "- Understand the Jupyter Notebook interface (code vs. markdown cells, running cells, keyboard shortcuts).\n",
        "- Write and run basic Python code (syntax, variables, data types, control flow).\n",
        "- Document code using Markdown (headings, lists, LaTeX equations).\n",
        "- Get a high-level overview of Git & GitHub for version control.\n",
        "- Complete hands‑on challenges to reinforce each concept, including stretch problems for experienced coders.\n",
        "\n",
        "## Screen Sharing Solutions (Zoom)\n",
        "\n",
        "- Meeting ID: 926 0910 1746\n",
        "- Passcode: 105661"
      ]
    },
    {
      "cell_type": "markdown",
      "id": "976dcc91",
      "metadata": {
        "id": "976dcc91"
      },
      "source": [
        "## 1. Running Your First Python Cell\n",
        "Click in the cell below and press **Shift + Enter** (or the ▶️ button) to execute it."
      ]
    },
    {
      "cell_type": "code",
      "execution_count": null,
      "id": "5ec233fc",
      "metadata": {
        "colab": {
          "base_uri": "https://localhost:8080/"
        },
        "id": "5ec233fc",
        "outputId": "58828991-49f8-4eda-a6fd-95a3c23398d4"
      },
      "outputs": [
        {
          "name": "stdout",
          "output_type": "stream",
          "text": [
            "Hello, world!\n"
          ]
        }
      ],
      "source": [
        "print('Hello, world!')"
      ]
    },
    {
      "cell_type": "markdown",
      "id": "70e7896a",
      "metadata": {
        "id": "70e7896a"
      },
      "source": [
        "## 2. Basic Python Syntax\n",
        "Python uses **indentation** (4 spaces by convention) to define blocks.\n",
        "Comments start with `#`. Anything after `#` on the same line is ignored by Python."
      ]
    },
    {
      "cell_type": "code",
      "execution_count": null,
      "id": "427a4a7f",
      "metadata": {
        "colab": {
          "base_uri": "https://localhost:8080/"
        },
        "id": "427a4a7f",
        "outputId": "b9c743e9-8430-4cae-c3a3-708b72ad9f7e"
      },
      "outputs": [
        {
          "name": "stdout",
          "output_type": "stream",
          "text": [
            "Iteration 0\n",
            "Iteration 1\n",
            "Iteration 2\n",
            "Iteration 3\n",
            "Iteration 4\n"
          ]
        }
      ],
      "source": [
        "# This is a comment\n",
        "for i in range(5):\n",
        "    print('Iteration', i)"
      ]
    },
    {
      "cell_type": "markdown",
      "id": "e1cc30f3",
      "metadata": {
        "id": "e1cc30f3"
      },
      "source": [
        "### Activity 1 – Debug It!\n",
        "The code below has three syntax/logic errors. Run it, read the traceback, then fix the errors so the loop prints\n",
        "`0 2 4 6 8` on one line."
      ]
    },
    {
      "cell_type": "code",
      "execution_count": null,
      "id": "48cb3ef9",
      "metadata": {
        "colab": {
          "base_uri": "https://localhost:8080/"
        },
        "id": "48cb3ef9",
        "outputId": "9b33f383-5847-4acf-90a8-b3f4e8002a07"
      },
      "outputs": [
        {
          "name": "stdout",
          "output_type": "stream",
          "text": [
            "0 2 4 6 8 "
          ]
        }
      ],
      "source": [
        "# TODO: Fix the errors so this prints \"0 2 4 6 8\"\n",
        "for i in range(0, 10, 2):\n",
        "  print(str(i) + ' ', end='')"
      ]
    },
    {
      "cell_type": "markdown",
      "id": "c3e5360c",
      "metadata": {
        "id": "c3e5360c"
      },
      "source": [
        "## 3. Variables & Data Types\n",
        "Python is **dynamically typed** – variable types are inferred at runtime.\n",
        "\n",
        "| Type | Example | Literal |\n",
        "|------|---------|---------|\n",
        "| `int` | whole numbers | `x = 42` |\n",
        "| `float` | decimal numbers | `pi = 3.14159` |\n",
        "| `str` | text | `name = \"Ada\"` |\n",
        "| `bool` | truth values | `is_valid = True` |\n",
        "| `list` | ordered, mutable collection | `scores = [95, 88, 72]` |\n",
        "| `dict` | key‑value pairs | `user = {'id': 1, 'name': 'Sam'}` |\n",
        "\n",
        "Run the cell below to see the types in action."
      ]
    },
    {
      "cell_type": "code",
      "execution_count": null,
      "id": "0156c27d",
      "metadata": {
        "id": "0156c27d"
      },
      "outputs": [],
      "source": [
        "x = 42\n",
        "pi = 3.14159\n",
        "name = \"Ada\"\n",
        "is_valid = True\n",
        "scores = [95, 88, 72]\n",
        "user = {'id': 1, 'name': 'Sam'}\n",
        "\n",
        "print(type(x), type(pi), type(name), type(is_valid), type(scores), type(user))"
      ]
    },
    {
      "cell_type": "markdown",
      "id": "57463a85",
      "metadata": {
        "id": "57463a85"
      },
      "source": [
        "### Activity 2 – Type Detective\n",
        "1. Create two new variables:\n",
        "   * `temperature_c` set to `21.5` (float)\n",
        "   * `cities` containing three city names of your choice (list of strings)\n",
        "2. Print a sentence that says \"The temperature is XX °C in CITY.\" using an **f‑string** and the first city in your list.\n",
        "3. Verify the data types with `type()`."
      ]
    },
    {
      "cell_type": "code",
      "execution_count": null,
      "id": "2ec07dc9",
      "metadata": {
        "colab": {
          "base_uri": "https://localhost:8080/"
        },
        "id": "2ec07dc9",
        "outputId": "4a031954-9544-477e-e9ae-de098876c64f"
      },
      "outputs": [
        {
          "name": "stdout",
          "output_type": "stream",
          "text": [
            "The temperature is 21.5ºC in Boston\n",
            "<class 'float'> <class 'list'>\n"
          ]
        }
      ],
      "source": [
        "# Your code here\n",
        "temperature_c = 21.5\n",
        "cities = ['Boston', 'Austin', 'Houston']\n",
        "\n",
        "print(f'The temperature is {temperature_c}ºC in {cities[0]}')\n",
        "\n",
        "print(type(temperature_c), type(cities))\n"
      ]
    },
    {
      "cell_type": "markdown",
      "id": "208b185b",
      "metadata": {
        "id": "208b185b"
      },
      "source": [
        "## 4. Control Flow – `if`, `for`, `while`"
      ]
    },
    {
      "cell_type": "code",
      "execution_count": null,
      "id": "ca94405d",
      "metadata": {
        "id": "ca94405d"
      },
      "outputs": [],
      "source": [
        "number = 7\n",
        "if number % 2 == 0:\n",
        "    print(number, \"is even\")\n",
        "else:\n",
        "    print(number, \"is odd\")"
      ]
    },
    {
      "cell_type": "markdown",
      "id": "dc82263f",
      "metadata": {
        "id": "dc82263f"
      },
      "source": [
        "### Activity 3 – FizzBuzz Lite\n",
        "Write a loop that prints numbers 1‑20. For multiples of 3 print \"Fizz\", for multiples of 5 print \"Buzz\", and for multiples of both print \"FizzBuzz\"."
      ]
    },
    {
      "cell_type": "code",
      "execution_count": null,
      "id": "08092ea8",
      "metadata": {
        "colab": {
          "base_uri": "https://localhost:8080/"
        },
        "id": "08092ea8",
        "outputId": "e3453cb0-499e-43e4-a373-a66d877c4158"
      },
      "outputs": [
        {
          "name": "stdout",
          "output_type": "stream",
          "text": [
            "1\n",
            "2\n",
            "3\n",
            "Fizz\n",
            "4\n",
            "5\n",
            "Buzz\n",
            "6\n",
            "Fizz\n",
            "7\n",
            "8\n",
            "9\n",
            "Fizz\n",
            "10\n",
            "Buzz\n",
            "11\n",
            "12\n",
            "Fizz\n",
            "13\n",
            "14\n",
            "15\n",
            "FizzBuzz\n",
            "16\n",
            "17\n",
            "18\n",
            "Fizz\n",
            "19\n",
            "20\n",
            "Buzz\n"
          ]
        }
      ],
      "source": [
        "# Your code here\n",
        "for num in range(1, 21, 1):\n",
        "  print(num)\n",
        "  if num % 3 == 0 and num % 5 == 0:\n",
        "    print('FizzBuzz')\n",
        "  elif num % 3 == 0:\n",
        "    print('Fizz')\n",
        "  elif num % 5 == 0:\n",
        "    print(\"Buzz\")\n"
      ]
    },
    {
      "cell_type": "markdown",
      "id": "2a9b92b6",
      "metadata": {
        "id": "2a9b92b6"
      },
      "source": [
        "## 5. Writing Functions\n",
        "Functions bundle reusable logic."
      ]
    },
    {
      "cell_type": "code",
      "execution_count": null,
      "id": "cbf6f817",
      "metadata": {
        "colab": {
          "base_uri": "https://localhost:8080/"
        },
        "id": "cbf6f817",
        "outputId": "4d5dee0b-7d93-424e-de4e-9aac3d8fa4ef"
      },
      "outputs": [
        {
          "name": "stdout",
          "output_type": "stream",
          "text": [
            "Hello, Data Scientist!\n"
          ]
        }
      ],
      "source": [
        "def greet(name):\n",
        "    \"\"\"Return a friendly greeting\"\"\"\n",
        "    return f\"Hello, {name}!\"\n",
        "\n",
        "print(greet('Data Scientist'))"
      ]
    },
    {
      "cell_type": "markdown",
      "id": "ad7cc8b8",
      "metadata": {
        "id": "ad7cc8b8"
      },
      "source": [
        "### Activity 4 – Fibonacci Function\n",
        "Implement `fib(n)` that returns the n‑th Fibonacci number (`fib(0)=0`, `fib(1)=1`). Test that `fib(10)` is 55."
      ]
    },
    {
      "cell_type": "code",
      "execution_count": null,
      "id": "be2e43b9",
      "metadata": {
        "colab": {
          "base_uri": "https://localhost:8080/"
        },
        "id": "be2e43b9",
        "outputId": "d516a1ac-481d-4c13-e2ef-bf43c3ec189f"
      },
      "outputs": [
        {
          "data": {
            "text/plain": [
              "55"
            ]
          },
          "execution_count": 15,
          "metadata": {},
          "output_type": "execute_result"
        }
      ],
      "source": [
        "# Your code here\n",
        "def fib(n):\n",
        "  if n == 0:\n",
        "    return 0\n",
        "  if n == 1:\n",
        "    return 1\n",
        "  return fib(n - 1) + fib(n-2)\n",
        "\n",
        "fib(10)\n"
      ]
    },
    {
      "cell_type": "markdown",
      "id": "dfcbf6cb",
      "metadata": {
        "id": "dfcbf6cb"
      },
      "source": [
        "## 6. Importing Libraries"
      ]
    },
    {
      "cell_type": "code",
      "execution_count": null,
      "id": "db261143",
      "metadata": {
        "id": "db261143"
      },
      "outputs": [],
      "source": [
        "import math\n",
        "import random\n",
        "import numpy as np\n",
        "import matplotlib.pyplot as plt\n",
        "\n",
        "samples = np.random.randn(1000)\n",
        "plt.hist(samples, bins=30)\n",
        "plt.title('Histogram of Normal Samples')\n",
        "plt.show()"
      ]
    },
    {
      "cell_type": "markdown",
      "id": "4a5d0c12",
      "metadata": {
        "id": "4a5d0c12"
      },
      "source": [
        "### Activity 5 – Dice Simulation\n",
        "Simulate rolling two six‑sided dice 10 000 times with `numpy.random.randint`. Plot a histogram of the sums."
      ]
    },
    {
      "cell_type": "code",
      "execution_count": 16,
      "id": "6adaed3d",
      "metadata": {
        "colab": {
          "base_uri": "https://localhost:8080/",
          "height": 452
        },
        "id": "6adaed3d",
        "outputId": "368727a0-21da-44df-8d55-2b579046f9c4"
      },
      "outputs": [
        {
          "data": {
            "image/png": "[encoded data removed]",
            "text/plain": [
              "<Figure size 640x480 with 1 Axes>"
            ]
          },
          "metadata": {},
          "output_type": "display_data"
        }
      ],
      "source": [
        "# Your code here\n",
        "import numpy as np\n",
        "import random\n",
        "import matplotlib.pyplot as plt\n",
        "\n",
        "sum_of_dice = []\n",
        "for _ in range(10000):\n",
        "  dice_1 = np.random.randint(1, 7)\n",
        "  dice_2 = np.random.randint(1, 7)\n",
        "  sum_of_dice.append(dice_1 + dice_2)\n",
        "\n",
        "plt.hist(sum_of_dice, bins=11)\n",
        "plt.title('Histogram of two six-sided dice roll')\n",
        "plt.show()\n"
      ]
    },
    {
      "cell_type": "markdown",
      "id": "bc223ffc",
      "metadata": {
        "id": "bc223ffc"
      },
      "source": [
        "## 7. Markdown Tips\n",
        "Use Markdown cells to explain your work:\n",
        "- `#` to `######` for headings\n",
        "- `**bold**` or `*italics*`\n",
        "- LaTeX math: `$E = mc^2$`\n",
        "\n",
        "Add a Markdown cell below explaining, in your own words, what a function is and why it’s useful."
      ]
    },
    {
      "cell_type": "markdown",
      "id": "-neMK7LJma2q",
      "metadata": {
        "id": "-neMK7LJma2q"
      },
      "source": [
        "######Functions\n",
        "\n",
        "A function is **important** because it lets you *repeat* stuff"
      ]
    },
    {
      "cell_type": "code",
      "execution_count": null,
      "id": "13146364",
      "metadata": {
        "id": "13146364"
      },
      "outputs": [],
      "source": [
        "# (Add a Markdown cell below instead of editing here)"
      ]
    },
    {
      "cell_type": "markdown",
      "id": "af2228ad",
      "metadata": {
        "id": "af2228ad"
      },
      "source": [
        "## 8. Version Control with Git & GitHub\n",
        "### Why version control?\n",
        "- Tracks changes to your code over time, like \"Track Changes\" in a document.\n",
        "- Enables collaboration without overwriting each other's work.\n",
        "- Provides an off‑site backup.\n",
        "\n",
        "We will use **GitHub Classroom** occasionally to provide each student with a private repository or will walk you through steps to create a repo for an assignment."
      ]
    },
    {
      "cell_type": "markdown",
      "id": "PVW9IAa32Fnx",
      "metadata": {
        "id": "PVW9IAa32Fnx"
      },
      "source": [
        "Sign up for GitHub if you have not already (or create a new one if you would like a new account) and share it in the following Google Form: [Link](https://docs.google.com/forms/d/e/1FAIpQLSdDg85PuiLlqXGdqvoHoIwsi0IgcHkgCp8JsvI-Fkq25y4TMQ/viewform?usp=dialog)"
      ]
    },
    {
      "cell_type": "markdown",
      "id": "aT68I8YsDFul",
      "metadata": {
        "id": "aT68I8YsDFul"
      },
      "source": [
        "TODO: Create a new public repository on GitHub and clone it in below:\n",
        "\n",
        "Code:\n",
        "\n",
        "!git clone https://github.com/example/repository.git.\n"
      ]
    },
    {
      "cell_type": "markdown",
      "id": "08304588",
      "metadata": {
        "id": "08304588"
      },
      "source": [
        "## Advanced Challenge Exercises\n",
        "These are optional stretch problems for students with prior coding experience.\n",
        "\n",
        "1. **List Comprehension Speed‑Up**  \n",
        "   Generate the squares of all integers from 1 to 100 000. Compare the runtime of a traditional `for` loop vs. a list comprehension using `timeit`. Plot the timing results. Further reading: https://www.geeksforgeeks.org/python/python-list-comprehension/\n",
        "\n",
        "2. **Dictionary Comprehension Puzzle**  \n",
        "   Create a dictionary that maps each lowercase letter `a‑z` to its numerical position in the alphabet **without** typing the alphabet explicitly (i.e., A is position 0, B is position 1). Further reading: https://www.geeksforgeeks.org/python/python-dictionary/\n",
        "\n",
        "3. **NumPy Broadcasting Art**  \n",
        "   Use NumPy broadcasting to create a 2‑D array that represents a grayscale image of concentric circles (hint: compute distance from the center). Display it with `plt.imshow()`.\n",
        "\n",
        "4. **Prime Checker Function**  \n",
        "   Implement `is_prime(n)` efficiently for `n ≤ 10^6`. Test it on the following primes: 2, 3, 5, 7, 9973\n",
        "\n",
        "Choose any you like and work below."
      ]
    },
    {
      "cell_type": "code",
      "execution_count": null,
      "id": "1a8b4b7f",
      "metadata": {
        "colab": {
          "base_uri": "https://localhost:8080/",
          "height": 275
        },
        "id": "1a8b4b7f",
        "outputId": "ef656075-8944-4f8c-f372-1310c55783f7"
      },
      "outputs": [
        {
          "name": "stdout",
          "output_type": "stream",
          "text": [
            "0.00545020800200291\n",
            "0.005638665999867953\n",
            "\n",
            "{'a': 0, 'b': 1, 'c': 2, 'd': 3, 'e': 4, 'f': 5, 'g': 6, 'h': 7, 'i': 8, 'j': 9, 'k': 10, 'l': 11, 'm': 12, 'n': 13, 'o': 14, 'p': 15, 'q': 16, 'r': 17, 's': 18, 't': 19, 'u': 20, 'v': 21, 'w': 22, 'x': 23, 'y': 24, 'z': 25}\n",
            "\n",
            "True\n",
            "True\n",
            "True\n",
            "True\n",
            "True\n"
          ]
        },
        {
          "data": {
            "image/png": "[encoded data removed]",
            "text/plain": [
              "<Figure size 640x480 with 1 Axes>"
            ]
          },
          "metadata": {},
          "output_type": "display_data"
        }
      ],
      "source": [
        "# Start your advanced solutions here\n",
        "import timeit\n",
        "\n",
        "##1\n",
        "def for_loop_example():\n",
        "  num_list = []\n",
        "  for num in range(1, 100001, 1):\n",
        "    num_list.append(num*num)\n",
        "\n",
        "\n",
        "print(timeit.timeit('a=[num*num for num in range(1, 100001, 1)]', number=1))\n",
        "\n",
        "print(timeit.timeit(for_loop_example, number=1), end='\\n\\n')\n",
        "\n",
        "\n",
        "\n"
      ]
    },
    {
      "cell_type": "code",
      "execution_count": 23,
      "id": "96c37460",
      "metadata": {},
      "outputs": [
        {
          "name": "stdout",
          "output_type": "stream",
          "text": [
            "{'a': 0, 'b': 1, 'c': 2, 'd': 3, 'e': 4, 'f': 5, 'g': 6, 'h': 7, 'i': 8, 'j': 9, 'k': 10, 'l': 11, 'm': 12, 'n': 13, 'o': 14, 'p': 15, 'q': 16, 'r': 17, 's': 18, 't': 19, 'u': 20, 'v': 21, 'w': 22, 'x': 23, 'y': 24, 'z': 25}\n",
            "\n"
          ]
        }
      ],
      "source": [
        "##2\n",
        "alphabet_dict = {}\n",
        "for i in range(26):\n",
        "  alphabet_dict[chr(i+97)] = i\n",
        "\n",
        "print(alphabet_dict, end='\\n\\n')"
      ]
    },
    {
      "cell_type": "code",
      "execution_count": 26,
      "id": "43c24182",
      "metadata": {},
      "outputs": [
        {
          "data": {
            "text/plain": [
              "<matplotlib.image.AxesImage at 0x14c489f90>"
            ]
          },
          "execution_count": 26,
          "metadata": {},
          "output_type": "execute_result"
        },
        {
          "data": {
            "image/png": "[encoded data removed]",
            "text/plain": [
              "<Figure size 640x480 with 1 Axes>"
            ]
          },
          "metadata": {},
          "output_type": "display_data"
        }
      ],
      "source": [
        "##3\n",
        "import numpy as np\n",
        "import matplotlib.pyplot as plt\n",
        "\n",
        "\n",
        "row = 100\n",
        "col = 100\n",
        "\n",
        "color_distribution = np.zeros((row, col))\n",
        "\n",
        "center_x = col//2\n",
        "center_y = row//2\n",
        "\n",
        "radii = [10, 20, 30, 40, 50]\n",
        "\n",
        "x, y = np.ogrid[:row, :col]\n",
        "\n",
        "distance_from_center = np.sqrt((x-center_x)**2 + (y-center_y)**2)\n",
        "\n",
        "value = 1\n",
        "prev_r = 0\n",
        "for r in radii:\n",
        "  mask = (distance_from_center >= prev_r) & (distance_from_center <= r)\n",
        "  color_distribution[mask] = value\n",
        "  value += 1\n",
        "  prev_r = r\n",
        "\n",
        "plt.imshow(np.round(color_distribution, 1), cmap='gray')"
      ]
    },
    {
      "cell_type": "code",
      "execution_count": null,
      "id": "bd005fb6",
      "metadata": {},
      "outputs": [],
      "source": [
        "##4\n",
        "import math\n",
        "\n",
        "def is_prime(n):\n",
        "  limit = int(math.sqrt(n))\n",
        "\n",
        "  for f in range(2, limit+1):\n",
        "    if n % f == 0:\n",
        "      return False\n",
        "  \n",
        "  return True\n",
        "\n",
        "numbers_to_test = [2, 3, 5, 7, 9973]\n",
        "\n",
        "for num in numbers_to_test:\n",
        "  print(is_prime(num))"
      ]
    }
  ],
  "metadata": {
    "colab": {
      "provenance": []
    },
    "kernelspec": {
      "display_name": "base",
      "language": "python",
      "name": "python3"
    },
    "language_info": {
      "codemirror_mode": {
        "name": "ipython",
        "version": 3
      },
      "file_extension": ".py",
      "mimetype": "text/x-python",
      "name": "python",
      "nbconvert_exporter": "python",
      "pygments_lexer": "ipython3",
      "version": "3.13.5"
    }
  },
  "nbformat": 4,
  "nbformat_minor": 5
}
