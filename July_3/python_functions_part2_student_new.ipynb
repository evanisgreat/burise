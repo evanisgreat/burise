{
  "cells": [
    {
      "cell_type": "markdown",
      "id": "a77a1c94",
      "metadata": {
        "id": "a77a1c94"
      },
      "source": [
        "# Morning Lecture  \n",
        "\n",
        "### Use one of your existing enviornments that isn't base"
      ]
    },
    {
      "cell_type": "markdown",
      "id": "603144eb",
      "metadata": {
        "id": "603144eb"
      },
      "source": [
        "# Functions\n",
        "\n",
        "A **function** packages a reusable computation that can be called from anywhere in your notebook or other Python files.\n"
      ]
    },
    {
      "cell_type": "markdown",
      "id": "968c09b5",
      "metadata": {
        "id": "968c09b5"
      },
      "source": [
        "### 1  Defining a function\n",
        "\n",
        "```python\n",
        "def function_name(param1, param2='default'):\n",
        "    \"\"\"One-sentence summary of what the function does.\n",
        "\n",
        "    Parameters\n",
        "    ----------\n",
        "    param1 : type\n",
        "        Meaning of the parameter.\n",
        "    param2 : type, default 'default'\n",
        "        Optional parameter with a default value.\n",
        "\n",
        "    Returns\n",
        "    -------\n",
        "    something : type\n",
        "        Description of returned value.\n",
        "    \"\"\"\n",
        "    # body\n",
        "    result = do_something(param1, param2)\n",
        "    return result\n",
        "```\n"
      ]
    },
    {
      "cell_type": "code",
      "execution_count": 2,
      "id": "6147a7d5",
      "metadata": {
        "id": "6147a7d5"
      },
      "outputs": [
        {
          "name": "stdout",
          "output_type": "stream",
          "text": [
            "Good afternoon, Evan!\n",
            "Hello, Evan!\n"
          ]
        }
      ],
      "source": [
        "# Try editing and running this example:\n",
        "\n",
        "# TODO: write a greet function\n",
        "def greet(name, time=''):\n",
        "    \"\"\"\n",
        "    function that greets the name passed in argument\n",
        "\n",
        "    parameters:\n",
        "    name: str\n",
        "        the name of the person greeting\n",
        "    time: str, default=''\n",
        "        optional parameter for greeting in the specific time of day\n",
        "\n",
        "    Returns:\n",
        "    f-string with correct greeting\n",
        "    \"\"\"\n",
        "\n",
        "    keyword = ['morning', 'afternoon', 'evening', 'night']\n",
        "\n",
        "    if time in keyword:\n",
        "        return f'Good {time}, {name}!'\n",
        "    return f'Hello, {name}!'\n",
        "\n",
        "result = greet('Evan', 'afternoon')\n",
        "print(result)\n",
        "result = greet('Evan')\n",
        "print(result)\n",
        "    "
      ]
    },
    {
      "cell_type": "markdown",
      "id": "28337520",
      "metadata": {
        "id": "28337520"
      },
      "source": [
        "### 2  Variable-length arguments  \n",
        "\n",
        "Python lets you accept any number of positional or keyword arguments:\n",
        "\n",
        "```python\n",
        "def describe(*items, **metadata):\n",
        "    print(\"Items:\", items)\n",
        "    print(\"Metadata:\", metadata)\n",
        "```\n"
      ]
    },
    {
      "cell_type": "code",
      "execution_count": 3,
      "id": "3eb37e8d",
      "metadata": {},
      "outputs": [
        {
          "name": "stdout",
          "output_type": "stream",
          "text": [
            "10.0\n",
            "10\n",
            "Adding 1, running total was 0\n",
            "Adding 2, running total was 1\n",
            "Adding 3, running total was 3\n",
            "6\n"
          ]
        }
      ],
      "source": [
        "def total_sum(*numbers, **options):\n",
        "    \"\"\"\n",
        "    Adds up all supplied numbers. \n",
        "    Options:\n",
        "      round_result: bool - whether to round the result to nearest integer\n",
        "      report_out: bool - whether to print intermediate values\n",
        "    \"\"\"\n",
        "    running = 0\n",
        "    for n in numbers:\n",
        "        if options.get('report_out'):\n",
        "            print(f\"Adding {n}, running total was {running}\")\n",
        "        running += n\n",
        "    if options.get('round_result'):\n",
        "        running = round(running)\n",
        "    return running\n",
        "\n",
        "# Examples:\n",
        "print(total_sum(2.5, 3.1, 4.4))  \n",
        "\n",
        "\n",
        "print(total_sum(2.5, 3.1, 4.4, round_result=True))  \n",
        "\n",
        "\n",
        "print(total_sum(1, 2, 3, report_out=True))  \n",
        "\n"
      ]
    },
    {
      "cell_type": "markdown",
      "id": "36ca1185",
      "metadata": {
        "id": "36ca1185"
      },
      "source": [
        "> **Exercise 1 — Fahrenheit → Celsius**  \n",
        "> Write a function `to_celsius(f_temp)` that converts Fahrenheit to Celsius with one line of code and returns the result.  \n",
        "> **Stretch:** Modify it to optionally return Kelvin when `scale='K'`.\n"
      ]
    },
    {
      "cell_type": "code",
      "execution_count": 7,
      "id": "68a72d54",
      "metadata": {
        "id": "68a72d54"
      },
      "outputs": [
        {
          "data": {
            "text/plain": [
              "(23.88888888888889, 296.8888888888889)"
            ]
          },
          "execution_count": 7,
          "metadata": {},
          "output_type": "execute_result"
        }
      ],
      "source": [
        "# YOUR CODE HERE\n",
        "def to_celcius(f_temp, scale=''):\n",
        "    \"\"\"\n",
        "    converts farenheit to Celsius with one line of code and return result\n",
        "    \"\"\"\n",
        "\n",
        "    celsius = (f_temp-32) * 5 / 9\n",
        "\n",
        "    if scale == 'K':\n",
        "        kelvin = celsius + 273\n",
        "        return celsius, kelvin\n",
        "    \n",
        "    return celsius\n",
        "\n",
        "to_celcius(32, scale='K')\n",
        "to_celcius(100)\n",
        "to_celcius(75, 'K')"
      ]
    },
    {
      "cell_type": "markdown",
      "id": "5d1bf604",
      "metadata": {
        "id": "5d1bf604"
      },
      "source": [
        "## 4  Using Modules\n",
        "\n",
        "A *module* is a Python file that provides variables, functions, or classes.  \n",
        "We’ll explore the built-in `math` and `random` modules, then import third-party `pandas`.\n"
      ]
    },
    {
      "cell_type": "code",
      "execution_count": 95,
      "id": "4181a324",
      "metadata": {
        "id": "4181a324"
      },
      "outputs": [
        {
          "name": "stdout",
          "output_type": "stream",
          "text": [
            "3.0\n"
          ]
        },
        {
          "data": {
            "image/png": "[encoded data removed]",
            "text/plain": [
              "<Figure size 640x480 with 1 Axes>"
            ]
          },
          "metadata": {},
          "output_type": "display_data"
        }
      ],
      "source": [
        "# TODO: play with math and random modules (i.e., look up some functions in them)\n",
        "import math\n",
        "import random\n",
        "import matplotlib.pyplot as plt\n",
        "\n",
        "print(math.sqrt(9))\n",
        "\n",
        "number_gen = []\n",
        "\n",
        "for _ in range(1000000):\n",
        "    number_gen.append(random.randint(1,9))\n",
        "\n",
        "plt.hist(number_gen, bins=9)\n",
        "plt.show()\n"
      ]
    },
    {
      "cell_type": "markdown",
      "id": "a083a259",
      "metadata": {
        "id": "a083a259"
      },
      "source": [
        "## 5  File I/O with CSV\n",
        "\n",
        "CSV (comma-separated values) remains the lingua franca for tabular data.  \n",
        "Two common approaches:\n",
        "\n",
        "1. **`csv` module** - part of the standard library.  \n",
        "2. **`pandas.read_csv`** - more powerful, returns a DataFrame.\n"
      ]
    },
    {
      "cell_type": "code",
      "execution_count": 9,
      "id": "9b08fad8",
      "metadata": {
        "id": "9b08fad8"
      },
      "outputs": [
        {
          "name": "stdout",
          "output_type": "stream",
          "text": [
            "sample_data.csv created with sample rows:\n",
            "      Name  Age  Score\n",
            "0    Alice   25   88.5\n",
            "1      Bob   30   92.0\n",
            "2  Charlie   35   79.5\n",
            "3    Diana   40   85.0\n"
          ]
        }
      ],
      "source": [
        "import pandas as pd\n",
        "\n",
        "# Create a sample DataFrame\n",
        "data = {\n",
        "    \"Name\": [\"Alice\", \"Bob\", \"Charlie\", \"Diana\"],\n",
        "    \"Age\": [25, 30, 35, 40],\n",
        "    \"Score\": [88.5, 92.0, 79.5, 85.0]\n",
        "}\n",
        "df_sample = pd.DataFrame(data)\n",
        "\n",
        "# Save it as a CSV\n",
        "df_sample.to_csv(\"sample_data.csv\", index=False)\n",
        "print(\"sample_data.csv created with sample rows:\")\n",
        "print(df_sample)"
      ]
    },
    {
      "cell_type": "code",
      "execution_count": 12,
      "id": "ed0a3df4",
      "metadata": {
        "id": "ed0a3df4"
      },
      "outputs": [
        {
          "name": "stdout",
          "output_type": "stream",
          "text": [
            "      Name  Age  Score\n",
            "0    Alice   25   88.5\n",
            "1      Bob   30   92.0\n",
            "2  Charlie   35   79.5\n",
            "3    Diana   40   85.0\n"
          ]
        }
      ],
      "source": [
        "# TODO: read the provided sample_data.csv\n",
        "import pandas as pd\n",
        "\n",
        "df = pd.read_csv('sample_data.csv')\n",
        "\n",
        "print(df)\n"
      ]
    },
    {
      "cell_type": "markdown",
      "id": "e8977c19",
      "metadata": {
        "id": "e8977c19"
      },
      "source": [
        "> **Exercise 2 — Random Walk Logger**  \n",
        "> 1. Simulate 100 steps of a 1-D random walk (`+1` or `-1` per step).  \n",
        "> 2. Store cumulative positions in a Python list.  \n",
        "> - Save the result to `random_walk.csv` with two columns: `step`, `position`.  \n",
        "> 4. Reload the CSV with `pandas` and plot the walk (hint: `df.plot.line()`).\n"
      ]
    },
    {
      "cell_type": "code",
      "execution_count": 1,
      "id": "25af9acf",
      "metadata": {
        "id": "25af9acf"
      },
      "outputs": [
        {
          "data": {
            "text/plain": [
              "<Axes: >"
            ]
          },
          "execution_count": 1,
          "metadata": {},
          "output_type": "execute_result"
        },
        {
          "data": {
            "image/png": "[encoded data removed]",
            "text/plain": [
              "<Figure size 640x480 with 1 Axes>"
            ]
          },
          "metadata": {},
          "output_type": "display_data"
        }
      ],
      "source": [
        "# YOUR CODE HERE\n",
        "import pandas as pd\n",
        "import random\n",
        "import csv\n",
        "import matplotlib\n",
        "\n",
        "steps = []\n",
        "positions = []\n",
        "\n",
        "for i in range(100):\n",
        "    steps.append(random.choice([-1,1]))\n",
        "    if len(positions) > 0:\n",
        "        positions.append(positions[i-1]+steps[i])\n",
        "    else:\n",
        "        positions.append(steps[i])\n",
        "\n",
        "with open('random_walk.csv', 'w') as f:\n",
        "    writer = csv.writer(f)\n",
        "    writer.writerow(['step', 'position'])\n",
        "    writer.writerows(zip(steps, positions))\n",
        "\n",
        "df = pd.read_csv('random_walk.csv')\n",
        "\n",
        "df.plot.line()"
      ]
    }
  ],
  "metadata": {
    "colab": {
      "provenance": []
    },
    "kernelspec": {
      "display_name": "base",
      "language": "python",
      "name": "python3"
    },
    "language_info": {
      "codemirror_mode": {
        "name": "ipython",
        "version": 3
      },
      "file_extension": ".py",
      "mimetype": "text/x-python",
      "name": "python",
      "nbconvert_exporter": "python",
      "pygments_lexer": "ipython3",
      "version": "3.13.5"
    }
  },
  "nbformat": 4,
  "nbformat_minor": 5
}
